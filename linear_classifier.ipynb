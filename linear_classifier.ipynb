{
 "metadata": {
  "language_info": {
   "codemirror_mode": {
    "name": "ipython",
    "version": 3
   },
   "file_extension": ".py",
   "mimetype": "text/x-python",
   "name": "python",
   "nbconvert_exporter": "python",
   "pygments_lexer": "ipython3",
   "version": "3.8.6"
  },
  "orig_nbformat": 2,
  "kernelspec": {
   "name": "python3",
   "display_name": "Python 3.8.6 64-bit ('cv': venv)",
   "metadata": {
    "interpreter": {
     "hash": "963c071e14a2160b573e45b0390f2a7ecc041567ccfb1acee2a7c3e2c0be211b"
    }
   }
  }
 },
 "nbformat": 4,
 "nbformat_minor": 2,
 "cells": [
  {
   "cell_type": "code",
   "execution_count": 2,
   "metadata": {},
   "outputs": [
    {
     "output_type": "error",
     "ename": "SyntaxError",
     "evalue": "invalid syntax (<ipython-input-2-9a1e1b8cdbb7>, line 78)",
     "traceback": [
      "\u001b[1;36m  File \u001b[1;32m\"<ipython-input-2-9a1e1b8cdbb7>\"\u001b[1;36m, line \u001b[1;32m78\u001b[0m\n\u001b[1;33m    ax[i].imshow(img*1000)\u001b[0m\n\u001b[1;37m    ^\u001b[0m\n\u001b[1;31mSyntaxError\u001b[0m\u001b[1;31m:\u001b[0m invalid syntax\n"
     ]
    }
   ],
   "source": [
    "import tensorflow as tf\n",
    "from tensorflow import keras\n",
    "import numpy as np\n",
    "import matplotlib.pyplot as plt\n",
    "(x_train, y_train), (x_test, y_test) = keras.datasets.cifar10.load_data()\n",
    "print('x_train:', x_train.shape)\n",
    "K = len(np.unique(y_train)) # Classes\n",
    "Ntr = x_train.shape[0]\n",
    "Nte = x_test.shape[0]\n",
    "Din = 3072 # CIFAR10\n",
    "# Din = 784 # MINIST\n",
    "# Normalize pixel values\n",
    "x_train, x_test = x_train / 255.0, x_test / 255.0\n",
    "mean_image = np.mean(x_train, axis=0)\n",
    "x_train = x_train - mean_image\n",
    "x_test = x_test - mean_image\n",
    "y_train = tf.keras.utils.to_categorical(y_train, num_classes=K)\n",
    "y_test = tf.keras.utils.to_categorical(y_test, num_classes=K)\n",
    "x_train = np.reshape(x_train,(Ntr,Din))\n",
    "x_test = np.reshape(x_test,(Nte,Din))\n",
    "x_train = x_train.astype('float32')\n",
    "x_test = x_test.astype('float32')\n",
    "print('x_train:', x_train.shape)\n",
    "std=1e-5\n",
    "w1 = std*np.random.randn(Din, K)\n",
    "b1 = np.zeros(K)\n",
    "print(\"w1:\", w1.shape)\n",
    "print(\"b1:\", b1.shape)\n",
    "batch_size = Ntr\n",
    "iterations =300\n",
    "lr =1.1e-2\n",
    "lr_decay=0.999\n",
    "reg =5e-6\n",
    "loss_history = []\n",
    "train_acc_history = []\n",
    "val_acc_history = []\n",
    "seed = 0\n",
    "rng = np.random.default_rng(seed=seed)\n",
    "for t in range(iterations):\n",
    "    indices = np.arange(Ntr)\n",
    "    rng.shuffle(indices)\n",
    "\n",
    "\n",
    "    # Forward pass\n",
    "    x=x_train[indices]\n",
    "    y=y_train[indices]\n",
    "    y_pre=np.matmul(x_train,w1) + b1\n",
    "    loss=(1/batch_size)*np.square(y_pre-y_train).sum()  + reg*(np.sum(w1*w1))\n",
    "    loss_history.append(loss)\n",
    "    \n",
    "\n",
    "    # Backward pass\n",
    "    dy_pre =(1/batch_size)*2.0*(y_pre-y_train)\n",
    "    dw1= np.matmul(x_train.T,dy_pre)\n",
    "    db1=dy_pre.sum(axis=0)\n",
    "    w1-=lr*dw1\n",
    "    b1-=lr*db1\n",
    "    lr*=lr_decay\n",
    "    train_acc= 1.0 - (1/(Ntr*9))*(np.abs(np.argmax(y_train,axis=1) - np.argmax(y_pre,axis=1))).sum()\n",
    "    train_acc_history.append(train_acc)\n",
    "    if t % 10==0:\n",
    "        print('iteration %d : loss %f : accuracy %f '% (t,loss,train_acc))\n",
    "\n",
    "\n",
    "\n",
    "# Printing accuracies and displaying w as images\n",
    "y_test_pre=np.matmul(x_test,w1) + b1\n",
    "test_acc= 1.0 - (1/(Ntr*9))*(np.abs(np.argmax(y_test,axis=1) - np.argmax(y_test_pre,axis=1))).sum()\n",
    "\n",
    "print(train_acc_history[-1])\n",
    "print(test_acc)\n",
    "\n",
    "frame,ax= plt.subplots(1,K)\n",
    "frame.set_size_inches(16,10)\n",
    "\n",
    "for i in range(K):\n",
    "    img= w1[:,i].reshape(32,32,3)\n",
    "    ax[i].imshow(img*1000)\n",
    "plt.show()\n"
   ]
  },
  {
   "cell_type": "code",
   "execution_count": null,
   "metadata": {},
   "outputs": [],
   "source": []
  }
 ]
}